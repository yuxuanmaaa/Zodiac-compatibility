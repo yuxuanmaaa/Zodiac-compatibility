{
 "cells": [
  {
   "cell_type": "markdown",
   "metadata": {},
   "source": [
    "# Final Project"
   ]
  },
  {
   "cell_type": "markdown",
   "metadata": {},
   "source": [
    "### Introduction: \n",
    "It is a chatbot that can tell you the compatibility between you and your beloved one. It will take the users' zodiac and their beloved one's zodiac. Nevertheless, the chatbot will only generate a random score and tell the result according to the score."
   ]
  },
  {
   "cell_type": "markdown",
   "metadata": {},
   "source": [
    "### Functions:\n",
    "\n",
    "1. `true_name`(original):\n",
    "    - this function finds out if the name user input is in correct format\n",
    "    - name shouldn't contain any punctuation or integer.\n",
    "    - in case someone is being naughty\n",
    "    - give true if the input is in the correct format, false otherwise.\n",
    "    \n",
    "    \n",
    "2. `remove_punctuation`:\n",
    "    - a function from A3 Q10 that remove all the unnecessary characters in the string\n",
    "    \n",
    "    \n",
    "3. `zodiac_exist`(original):\n",
    "    - see if the user input is in the twelve zodiacs\n",
    "    - we make the input lower case and remove the punctuations for convinience in the future when we are examing it.\n",
    "    - give true if the input is in the twelve zodiac, false otherwise.\n",
    "    \n",
    "    \n",
    "4. `result`(orginal):\n",
    "    - randomly generate a score from 70 to 100\n",
    "    - if score is smaller than 80, we give the low result in the   \n",
    "    \n",
    "    \n",
    "5. `zodiac_dict`(original):\n",
    "    - if score is smaller than 90 but bigger or equal to 80, we give the medium result in the `zodiac_dict`\n",
    "    - else, we give the high result in the `zodiac_dict`\n",
    "    \n",
    "    \n",
    "6. `progressbar`:\n",
    "    - micmic the progress bar\n",
    "    \n",
    "    \n",
    "7. `have_a_chat`:\n",
    "    - the final function that combines all the functions and make them work."
   ]
  },
  {
   "cell_type": "markdown",
   "metadata": {},
   "source": [
    "## Here is the final project, try it out! "
   ]
  },
  {
   "cell_type": "code",
   "execution_count": 8,
   "metadata": {},
   "outputs": [],
   "source": [
    "import zodiac_funcs as func"
   ]
  },
  {
   "cell_type": "code",
   "execution_count": 11,
   "metadata": {},
   "outputs": [
    {
     "name": "stdout",
     "output_type": "stream",
     "text": [
      "Welcome to the magical tree. This tree could tell you the compatibility between you and your beloved one.\n",
      "Let's meet him!\n",
      "Magical Tree: Hello, my friend. Nice to meet you! First, please tell me your name: \n",
      "INPUT :\tmandy\n",
      "Magical Tree: Hello Mandy. \n",
      "Would you tell me your zodiac please?\n",
      "INPUT :\taquarius\n",
      "Magical Tree: Oh! Aquarius is actually my favorite zodiac, because we have the same zodiac!\n",
      "Magical Tree: Ok. Tell me secretly which zodiac does you beloved one have: \n",
      "INPUT :\tpisces\n",
      "Magical Tree: Emmmm...Aquarius and Pisces! Interesting combination.\n",
      "Magical Tree: Let me do the calculation. Mami Mami Hong!\n",
      "Computing: [########################################] 100/100\n",
      "Magical Tree: You get the score: \n",
      "97\n",
      "Wow! This is the perfect score! I believe that you are each other's soulmate! Carry on!\n",
      "Here are all my answers! Good luck my friend!\n"
     ]
    }
   ],
   "source": [
    "func.magical_tree()"
   ]
  },
  {
   "cell_type": "markdown",
   "metadata": {},
   "source": [
    "### Extra Credit\n",
    "For the last function `magical_tree`, I made it more interactive than the project required. The `magical_tree` will acknowledge what the user input and give feedbacks to them. Also, I also requested the user to reenter the input if their input's format is not correct or they intentionally messes up with them."
   ]
  },
  {
   "cell_type": "code",
   "execution_count": null,
   "metadata": {},
   "outputs": [],
   "source": []
  }
 ],
 "metadata": {
  "kernelspec": {
   "display_name": "Python 3",
   "language": "python",
   "name": "python3"
  },
  "language_info": {
   "codemirror_mode": {
    "name": "ipython",
    "version": 3
   },
   "file_extension": ".py",
   "mimetype": "text/x-python",
   "name": "python",
   "nbconvert_exporter": "python",
   "pygments_lexer": "ipython3",
   "version": "3.6.7"
  }
 },
 "nbformat": 4,
 "nbformat_minor": 2
}
